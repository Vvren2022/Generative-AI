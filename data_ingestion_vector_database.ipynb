{
  "nbformat": 4,
  "nbformat_minor": 0,
  "metadata": {
    "colab": {
      "provenance": []
    },
    "kernelspec": {
      "name": "python3",
      "display_name": "Python 3"
    },
    "language_info": {
      "name": "python"
    }
  },
  "cells": [
    {
      "cell_type": "code",
      "execution_count": 32,
      "metadata": {
        "id": "ZVj9ByTwlCW5"
      },
      "outputs": [],
      "source": [
        "# !pip install langchain-community\n",
        "# !pip install openai\n",
        "# !pip install tiktoken\n",
        "# !pip install faiss-cpu\n",
        "# !pip install pypdf\n",
        "# !pip install langchain-openai\n",
        "# !pip install chromadb\n"
      ]
    },
    {
      "cell_type": "code",
      "source": [
        "from langchain_community.document_loaders import TextLoader\n",
        "loader=TextLoader(\"speech.txt\")\n",
        "text_documents=loader.load()\n",
        "text_documents"
      ],
      "metadata": {
        "colab": {
          "base_uri": "https://localhost:8080/"
        },
        "id": "8dP-o8PdlHNf",
        "outputId": "7d80c2f4-e73d-4788-ed19-47394dfb06a9"
      },
      "execution_count": 6,
      "outputs": [
        {
          "output_type": "execute_result",
          "data": {
            "text/plain": [
              "[Document(metadata={'source': 'speech.txt'}, page_content='The world must be made safe for democracy. Its peace must be planted upon the tested foundations of political liberty. We have no selfish ends to serve. We desire no conquest, no dominion. We seek no indemnities for ourselves, no material compensation for the sacrifices we shall freely make. We are but one of the champions of the rights of mankind. We shall be satisfied when those rights have been made as secure as the faith and the freedom of nations can make them.\\n\\nJust because we fight without rancor and without selfish object, seeking nothing for ourselves but what we shall wish to share with all free peoples, we shall, I feel confident, conduct our operations as belligerents without passion and ourselves observe with proud punctilio the principles of right and of fair play we profess to be fighting for.\\n\\n…\\n\\nIt will be all the easier for us to conduct ourselves as belligerents in a high spirit of right and fairness because we act without animus, not in enmity toward a people or with the desire to bring any injury or disadvantage upon them, but only in armed opposition to an irresponsible government which has thrown aside all considerations of humanity and of right and is running amuck. We are, let me say again, the sincere friends of the German people, and shall desire nothing so much as the early reestablishment of intimate relations of mutual advantage between us—however hard it may be for them, for the time being, to believe that this is spoken from our hearts.\\n\\nWe have borne with their present government through all these bitter months because of that friendship—exercising a patience and forbearance which would otherwise have been impossible. We shall, happily, still have an opportunity to prove that friendship in our daily attitude and actions toward the millions of men and women of German birth and native sympathy who live among us and share our life, and we shall be proud to prove it toward all who are in fact loyal to their neighbors and to the government in the hour of test. They are, most of them, as true and loyal Americans as if they had never known any other fealty or allegiance. They will be prompt to stand with us in rebuking and restraining the few who may be of a different mind and purpose. If there should be disloyalty, it will be dealt with with a firm hand of stern repression; but, if it lifts its head at all, it will lift it only here and there and without countenance except from a lawless and malignant few.\\n\\nIt is a distressing and oppressive duty, gentlemen of the Congress, which I have performed in thus addressing you. There are, it may be, many months of fiery trial and sacrifice ahead of us. It is a fearful thing to lead this great peaceful people into war, into the most terrible and disastrous of all wars, civilization itself seeming to be in the balance. But the right is more precious than peace, and we shall fight for the things which we have always carried nearest our hearts—for democracy, for the right of those who submit to authority to have a voice in their own governments, for the rights and liberties of small nations, for a universal dominion of right by such a concert of free peoples as shall bring peace and safety to all nations and make the world itself at last free.\\n\\nTo such a task we can dedicate our lives and our fortunes, everything that we are and everything that we have, with the pride of those who know that the day has come when America is privileged to spend her blood and her might for the principles that gave her birth and happiness and the peace which she has treasured. God helping her, she can do no other.')]"
            ]
          },
          "metadata": {},
          "execution_count": 6
        }
      ]
    },
    {
      "cell_type": "code",
      "source": [
        "import os\n",
        "import bs4\n"
      ],
      "metadata": {
        "id": "0nrAnuCQmJAP"
      },
      "execution_count": 38,
      "outputs": []
    },
    {
      "cell_type": "code",
      "source": [
        "from langchain_community.document_loaders import WebBaseLoader"
      ],
      "metadata": {
        "colab": {
          "base_uri": "https://localhost:8080/"
        },
        "id": "kN5UHA7vmrRu",
        "outputId": "68c1ed68-935c-4e25-dbfa-faf7ca949b4d"
      },
      "execution_count": 10,
      "outputs": [
        {
          "output_type": "stream",
          "name": "stderr",
          "text": [
            "WARNING:langchain_community.utils.user_agent:USER_AGENT environment variable not set, consider setting it to identify your requests.\n"
          ]
        }
      ]
    },
    {
      "cell_type": "code",
      "source": [
        "loader=WebBaseLoader(web_path=(\"https://python.langchain.com/docs/tutorials/rag/\"),bs_kwargs=dict(parse_only=bs4.SoupStrainer(class_=(\"docRoot_UBD9\",\"docItemContainer_c0TR\",\"docsWrapper_hBAB\"))))"
      ],
      "metadata": {
        "id": "aI9GvkRnnYFe"
      },
      "execution_count": null,
      "outputs": []
    },
    {
      "cell_type": "code",
      "source": [
        "loader=WebBaseLoader(web_paths=(\"https://python.langchain.com/docs/tutorials/rag/\",),\n",
        "                     bs_kwargs=dict(parse_only=bs4.SoupStrainer(\n",
        "                         class_=(\"docRoot_UBD9\",\"docItemContainer_c0TR\",\"docsWrapper_hBAB\")\n",
        "\n",
        "                     )))"
      ],
      "metadata": {
        "id": "I4WkvHphpPCC"
      },
      "execution_count": 12,
      "outputs": []
    },
    {
      "cell_type": "code",
      "source": [
        "text_documents=loader.load()"
      ],
      "metadata": {
        "id": "WiecLI81qaVG"
      },
      "execution_count": 14,
      "outputs": []
    },
    {
      "cell_type": "code",
      "source": [
        "from langchain_community.document_loaders import PyPDFLoader\n"
      ],
      "metadata": {
        "id": "ZHZ7RNSur_uC"
      },
      "execution_count": null,
      "outputs": []
    },
    {
      "cell_type": "code",
      "source": [
        "\n",
        "## Pdf reader\n",
        "from langchain_community.document_loaders import PyPDFLoader\n",
        "loader=PyPDFLoader('budget_speech.pdf')\n",
        "docs=loader.load()\n"
      ],
      "metadata": {
        "id": "1ZH3sxsJqlIU"
      },
      "execution_count": 25,
      "outputs": []
    },
    {
      "cell_type": "code",
      "source": [
        "\n",
        "from langchain.text_splitter import RecursiveCharacterTextSplitter\n",
        "text_splitter=RecursiveCharacterTextSplitter(chunk_size=1000,chunk_overlap=200)\n",
        "documents=text_splitter.split_documents(docs)\n",
        "len(documents)"
      ],
      "metadata": {
        "colab": {
          "base_uri": "https://localhost:8080/"
        },
        "id": "Z2C6ONcqrqmQ",
        "outputId": "25949099-9f4c-417b-dec6-5c157c4ca0b6"
      },
      "execution_count": 22,
      "outputs": [
        {
          "output_type": "execute_result",
          "data": {
            "text/plain": [
              "122"
            ]
          },
          "metadata": {},
          "execution_count": 22
        }
      ]
    },
    {
      "cell_type": "code",
      "source": [
        "len(docs)"
      ],
      "metadata": {
        "colab": {
          "base_uri": "https://localhost:8080/"
        },
        "id": "jfpWKfJXsld3",
        "outputId": "61155ac5-a2d5-4f3a-b0e7-f18292eef716"
      },
      "execution_count": 26,
      "outputs": [
        {
          "output_type": "execute_result",
          "data": {
            "text/plain": [
              "58"
            ]
          },
          "metadata": {},
          "execution_count": 26
        }
      ]
    },
    {
      "cell_type": "code",
      "source": [
        "\n",
        "## Vector Embedding And Vector Store\n",
        "from langchain_openai import OpenAIEmbeddings\n",
        "from langchain_community.vectorstores import Chroma\n",
        "db = Chroma.from_documents(documents,OpenAIEmbeddings())"
      ],
      "metadata": {
        "id": "Ug9lVeDKsuf8"
      },
      "execution_count": 33,
      "outputs": []
    },
    {
      "cell_type": "code",
      "source": [
        "db"
      ],
      "metadata": {
        "colab": {
          "base_uri": "https://localhost:8080/"
        },
        "id": "inqt6jlztBW_",
        "outputId": "8d115145-75c9-4efb-b1ec-e9109402d912"
      },
      "execution_count": 34,
      "outputs": [
        {
          "output_type": "execute_result",
          "data": {
            "text/plain": [
              "<langchain_community.vectorstores.chroma.Chroma at 0x7c135eacb050>"
            ]
          },
          "metadata": {},
          "execution_count": 34
        }
      ]
    },
    {
      "cell_type": "code",
      "source": [
        "\n",
        "query = \"i want to know the basic knowledge about budget\"\n",
        "retireved_results=db.similarity_search(query)\n",
        "print(retireved_results[0].page_content)"
      ],
      "metadata": {
        "colab": {
          "base_uri": "https://localhost:8080/"
        },
        "id": "cuT17ke7t20F",
        "outputId": "24bdbbf0-d80b-43f0-9c10-dfbcaf2e40ff"
      },
      "execution_count": 36,
      "outputs": [
        {
          "output_type": "stream",
          "name": "stdout",
          "text": [
            "Budget 2023-2024 \n",
            " \n",
            "Speech of \n",
            "Nirmala Sitharaman \n",
            "Minister of Finance \n",
            "February 1, 2023 \n",
            "Hon’ble Speaker,  \n",
            " I present the Budget for 2023-24. This is the first Budget in Amrit \n",
            "Kaal. \n",
            "Introduction \n",
            "1. This Budget hopes to build on the foundation laid in the previous \n",
            "Budget, and the blueprint drawn for India@100. We envision a prosperous \n",
            "and inclusive India, in which the fruits of development reach all regions and \n",
            "citizens, especially our youth, women, farmers, OBCs, Scheduled Castes and \n",
            "Scheduled Tribes.  \n",
            "2. In the 75 th year of our Independence, the world has recognised the \n",
            "Indian economy as a ‘bright star’. Our current year’s economic growth is \n",
            "estimated to be at 7 per cent. It is notable that this is the highest among all \n",
            "the major economies. This is in spite of the massive slowdown globally \n",
            "caused by Covid-19 and a war. The Indian economy is therefore on the right \n",
            "track, and despite a time of challenges, heading towards a bright future.\n"
          ]
        }
      ]
    },
    {
      "cell_type": "code",
      "source": [
        "## FAISS Vector Database\n",
        "from langchain_community.vectorstores import FAISS\n",
        "db = FAISS.from_documents(documents[:15], OpenAIEmbeddings())"
      ],
      "metadata": {
        "id": "xlY1oppNt6tc"
      },
      "execution_count": 37,
      "outputs": []
    },
    {
      "cell_type": "code",
      "source": [],
      "metadata": {
        "id": "_SNgQG-4uJGN"
      },
      "execution_count": null,
      "outputs": []
    }
  ]
}